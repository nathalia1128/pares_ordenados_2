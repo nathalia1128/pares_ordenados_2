{
  "cells": [
    {
      "cell_type": "code",
      "execution_count": 1,
      "metadata": {
        "id": "SJQWVKiyBp_0"
      },
      "outputs": [],
      "source": [
        "# Importamos las librerias que necesitamos\n",
        "import numpy as np\n",
        "import torch\n",
        "import torchvision\n",
        "import matplotlib.pyplot as plt\n",
        "from time import time\n",
        "from torchvision import datasets, transforms\n",
        "from torch import nn, optim"
      ]
    },
    {
      "attachments": {},
      "cell_type": "markdown",
      "metadata": {},
      "source": [
        "# Introducción a redes neuronales"
      ]
    },
    {
      "attachments": {},
      "cell_type": "markdown",
      "metadata": {},
      "source": [
        "En este notebook implementamos una red neuronal con PyTorch capaz de reconocer digitos escritos a mano."
      ]
    },
    {
      "attachments": {},
      "cell_type": "markdown",
      "metadata": {},
      "source": [
        "## Base de datos"
      ]
    },
    {
      "attachments": {},
      "cell_type": "markdown",
      "metadata": {},
      "source": [
        "Para este proyecto, utilizaremos la popular base de datos MNIST. Se trata de una colección de 70000 dígitos manuscritos divididos en conjuntos de entrenamiento y prueba de 60000 y 10000 imágenes respectivamente."
      ]
    },
    {
      "cell_type": "code",
      "execution_count": 2,
      "metadata": {
        "id": "xQJi0LkRCATb"
      },
      "outputs": [],
      "source": [
        "# Primero definimos las transformaciones que queremos realizar a nuestros datos\n",
        "transform = transforms.Compose([transforms.ToTensor()\n",
        "                              #,transforms.Normalize((0.5,), (0.5,)),\n",
        "                              ])"
      ]
    },
    {
      "cell_type": "code",
      "execution_count": 3,
      "metadata": {
        "colab": {
          "base_uri": "https://localhost:8080/"
        },
        "id": "ReT9L06YCiGz",
        "outputId": "8618c2e8-903f-4bd5-91f6-f4b74b404a5d"
      },
      "outputs": [
        {
          "name": "stdout",
          "output_type": "stream",
          "text": [
            "Downloading http://yann.lecun.com/exdb/mnist/train-images-idx3-ubyte.gz\n",
            "Downloading http://yann.lecun.com/exdb/mnist/train-images-idx3-ubyte.gz to ./tdatos/MNIST/raw/train-images-idx3-ubyte.gz\n"
          ]
        },
        {
          "name": "stderr",
          "output_type": "stream",
          "text": [
            "100%|██████████| 9912422/9912422 [00:02<00:00, 4384572.73it/s]\n"
          ]
        },
        {
          "name": "stdout",
          "output_type": "stream",
          "text": [
            "Extracting ./tdatos/MNIST/raw/train-images-idx3-ubyte.gz to ./tdatos/MNIST/raw\n",
            "\n",
            "Downloading http://yann.lecun.com/exdb/mnist/train-labels-idx1-ubyte.gz\n",
            "Downloading http://yann.lecun.com/exdb/mnist/train-labels-idx1-ubyte.gz to ./tdatos/MNIST/raw/train-labels-idx1-ubyte.gz\n"
          ]
        },
        {
          "name": "stderr",
          "output_type": "stream",
          "text": [
            "100%|██████████| 28881/28881 [00:00<00:00, 5648668.40it/s]\n"
          ]
        },
        {
          "name": "stdout",
          "output_type": "stream",
          "text": [
            "Extracting ./tdatos/MNIST/raw/train-labels-idx1-ubyte.gz to ./tdatos/MNIST/raw\n",
            "\n",
            "Downloading http://yann.lecun.com/exdb/mnist/t10k-images-idx3-ubyte.gz\n",
            "Downloading http://yann.lecun.com/exdb/mnist/t10k-images-idx3-ubyte.gz to ./tdatos/MNIST/raw/t10k-images-idx3-ubyte.gz\n"
          ]
        },
        {
          "name": "stderr",
          "output_type": "stream",
          "text": [
            "100%|██████████| 1648877/1648877 [00:00<00:00, 2656313.97it/s]\n"
          ]
        },
        {
          "name": "stdout",
          "output_type": "stream",
          "text": [
            "Extracting ./tdatos/MNIST/raw/t10k-images-idx3-ubyte.gz to ./tdatos/MNIST/raw\n",
            "\n",
            "Downloading http://yann.lecun.com/exdb/mnist/t10k-labels-idx1-ubyte.gz\n",
            "Downloading http://yann.lecun.com/exdb/mnist/t10k-labels-idx1-ubyte.gz to ./tdatos/MNIST/raw/t10k-labels-idx1-ubyte.gz\n"
          ]
        },
        {
          "name": "stderr",
          "output_type": "stream",
          "text": [
            "100%|██████████| 4542/4542 [00:00<00:00, 1221971.06it/s]"
          ]
        },
        {
          "name": "stdout",
          "output_type": "stream",
          "text": [
            "Extracting ./tdatos/MNIST/raw/t10k-labels-idx1-ubyte.gz to ./tdatos/MNIST/raw\n",
            "\n"
          ]
        },
        {
          "name": "stderr",
          "output_type": "stream",
          "text": [
            "\n"
          ]
        },
        {
          "name": "stdout",
          "output_type": "stream",
          "text": [
            "Downloading http://yann.lecun.com/exdb/mnist/train-images-idx3-ubyte.gz\n",
            "Downloading http://yann.lecun.com/exdb/mnist/train-images-idx3-ubyte.gz to ./pdatos/MNIST/raw/train-images-idx3-ubyte.gz\n"
          ]
        },
        {
          "name": "stderr",
          "output_type": "stream",
          "text": [
            "100%|██████████| 9912422/9912422 [00:01<00:00, 5002150.77it/s]\n"
          ]
        },
        {
          "name": "stdout",
          "output_type": "stream",
          "text": [
            "Extracting ./pdatos/MNIST/raw/train-images-idx3-ubyte.gz to ./pdatos/MNIST/raw\n",
            "\n",
            "Downloading http://yann.lecun.com/exdb/mnist/train-labels-idx1-ubyte.gz\n",
            "Downloading http://yann.lecun.com/exdb/mnist/train-labels-idx1-ubyte.gz to ./pdatos/MNIST/raw/train-labels-idx1-ubyte.gz\n"
          ]
        },
        {
          "name": "stderr",
          "output_type": "stream",
          "text": [
            "100%|██████████| 28881/28881 [00:00<00:00, 1514480.14it/s]\n"
          ]
        },
        {
          "name": "stdout",
          "output_type": "stream",
          "text": [
            "Extracting ./pdatos/MNIST/raw/train-labels-idx1-ubyte.gz to ./pdatos/MNIST/raw\n",
            "\n",
            "Downloading http://yann.lecun.com/exdb/mnist/t10k-images-idx3-ubyte.gz\n",
            "Downloading http://yann.lecun.com/exdb/mnist/t10k-images-idx3-ubyte.gz to ./pdatos/MNIST/raw/t10k-images-idx3-ubyte.gz\n"
          ]
        },
        {
          "name": "stderr",
          "output_type": "stream",
          "text": [
            "100%|██████████| 1648877/1648877 [00:00<00:00, 2370809.72it/s]\n"
          ]
        },
        {
          "name": "stdout",
          "output_type": "stream",
          "text": [
            "Extracting ./pdatos/MNIST/raw/t10k-images-idx3-ubyte.gz to ./pdatos/MNIST/raw\n",
            "\n",
            "Downloading http://yann.lecun.com/exdb/mnist/t10k-labels-idx1-ubyte.gz\n",
            "Downloading http://yann.lecun.com/exdb/mnist/t10k-labels-idx1-ubyte.gz to ./pdatos/MNIST/raw/t10k-labels-idx1-ubyte.gz\n"
          ]
        },
        {
          "name": "stderr",
          "output_type": "stream",
          "text": [
            "100%|██████████| 4542/4542 [00:00<00:00, 2076804.62it/s]"
          ]
        },
        {
          "name": "stdout",
          "output_type": "stream",
          "text": [
            "Extracting ./pdatos/MNIST/raw/t10k-labels-idx1-ubyte.gz to ./pdatos/MNIST/raw\n",
            "\n"
          ]
        },
        {
          "name": "stderr",
          "output_type": "stream",
          "text": [
            "\n"
          ]
        }
      ],
      "source": [
        "# importa datos de entrenamiento y de prueba\n",
        "trainset = datasets.MNIST('./tdatos', download=True, train=True, transform=transform)\n",
        "valset = datasets.MNIST('./pdatos', download=True, train=False, transform=transform)\n",
        "# divide la base de datos en baches de 64\n",
        "trainloader = torch.utils.data.DataLoader(trainset, batch_size=64, shuffle=True)\n",
        "valloader = torch.utils.data.DataLoader(valset, batch_size=64, shuffle=True)"
      ]
    },
    {
      "attachments": {},
      "cell_type": "markdown",
      "metadata": {},
      "source": [
        "## Construcción de la red neuronal"
      ]
    },
    {
      "attachments": {},
      "cell_type": "markdown",
      "metadata": {},
      "source": [
        "El módulo torch.nn de PyTorch nos permite construir la red anterior de forma muy sencilla. \n",
        "\n",
        "El nn.Sequential envuelve las capas de la red. Hay tres capas lineales y usamos la función de activación ReLU, una función simple con la siguiente forma. \n",
        "$$\\text{ReLU}(x)=(x)^{+}=\\text{max}(0,x)$$\n",
        "Basicamente permite que los valores positivos pasen mientras que los negativos los vuelve 0.\n",
        "\n",
        "La capa de salida es una capa lineal con activación Softmax porque se trata de un problema de clasificación en varias variables. La función Softmax se ve de la siguiente forma\n",
        "$$\\text{Softmax}(x_i)=\\frac{\\text{exp}(x_i)}{\\sum_j\\text{exp}(x_j)}$$"
      ]
    },
    {
      "cell_type": "code",
      "execution_count": 4,
      "metadata": {
        "id": "__RinXAvES5C"
      },
      "outputs": [],
      "source": [
        "# definimos la red neuronal\n",
        "class RedNeuronal(nn.Module):\n",
        "    def __init__(self):\n",
        "        super().__init__()\n",
        "        self.red = nn.Sequential(nn.Linear(784, 128),\n",
        "                      nn.ReLU(),\n",
        "                      nn.Linear(128, 64),\n",
        "                      nn.ReLU(),\n",
        "                      nn.Linear(64, 10),\n",
        "                      nn.Softmax(dim=1))\n",
        "    def forward(self, x: torch.Tensor):\n",
        "        return self.red(x)"
      ]
    },
    {
      "attachments": {},
      "cell_type": "markdown",
      "metadata": {},
      "source": [
        "### Definición del error"
      ]
    },
    {
      "attachments": {},
      "cell_type": "markdown",
      "metadata": {},
      "source": [
        "Nuestra función de error va a ser la entropia cruzada multiclase\n",
        "$$-\\sum_ct_c\\text{log}(p_c)$$\n",
        "Donde $t_c$ son los datos de entrenamiento y $p_c$ los datos otorgados por nuestro modelo"
      ]
    },
    {
      "cell_type": "code",
      "execution_count": 5,
      "metadata": {
        "id": "e_W7CZSfFSPk"
      },
      "outputs": [],
      "source": [
        "def funcion_de_error(y: torch.Tensor, t: torch.Tensor) -> torch.Tensor:\n",
        "    loss = torch.nn.CrossEntropyLoss()\n",
        "    return loss(y, t)"
      ]
    },
    {
      "attachments": {},
      "cell_type": "markdown",
      "metadata": {},
      "source": [
        "### Entrenar la red"
      ]
    },
    {
      "attachments": {},
      "cell_type": "markdown",
      "metadata": {},
      "source": [
        "La red neuronal itera sobre el conjunto de entrenamiento y actualiza los pesos, usando el descenso por la gradiente. Así, en cada época, veremos una disminución gradual del error."
      ]
    },
    {
      "cell_type": "code",
      "execution_count": 6,
      "metadata": {
        "id": "PMqJN1ZSKKF4"
      },
      "outputs": [],
      "source": [
        "def entrenar_red()->RedNeuronal:\n",
        "    # Se crea una instancia de la clase \n",
        "    red_neuronal = RedNeuronal()\n",
        "    # Un módulo proporcionado por PyTorch para optimizar el modelo\n",
        "    optimizer = optim.SGD(red_neuronal.parameters(), lr=0.003, momentum=0.9)\n",
        "    epochs = 15\n",
        "    for e in range(epochs):\n",
        "        running_loss = 0\n",
        "        for images, labels in trainloader:\n",
        "            # Aplana las imagenes de la base de datos\n",
        "            images = images.view(images.shape[0], -1)\n",
        "        \n",
        "            # Vacia el gradiante en cada iteración\n",
        "            optimizer.zero_grad()\n",
        "            \n",
        "            output = red_neuronal(images)\n",
        "            loss = funcion_de_error(output, labels)\n",
        "            \n",
        "            #Aquí es donde el modelo aprende por retropropagación\n",
        "            loss.backward()\n",
        "            \n",
        "            #Da un paso y optimiza los pesos\n",
        "            optimizer.step()\n",
        "            \n",
        "            running_loss += loss.item()\n",
        "          \n",
        "        print(\"Epoch {} - Training loss: {}\".format(e, running_loss/len(trainloader)))\n",
        "    return red_neuronal"
      ]
    },
    {
      "cell_type": "code",
      "execution_count": 7,
      "metadata": {
        "colab": {
          "base_uri": "https://localhost:8080/"
        },
        "id": "rQvRyVDONFrb",
        "outputId": "af25833e-f056-4d15-c573-0c1e02df6a1d"
      },
      "outputs": [
        {
          "name": "stdout",
          "output_type": "stream",
          "text": [
            "Epoch 0 - Training loss: 2.295366379243733\n",
            "Epoch 1 - Training loss: 2.1311930011330382\n",
            "Epoch 2 - Training loss: 1.8078936549392082\n",
            "Epoch 3 - Training loss: 1.734656752426741\n",
            "Epoch 4 - Training loss: 1.7177983741007887\n",
            "Epoch 5 - Training loss: 1.7092694494007492\n",
            "Epoch 6 - Training loss: 1.6704242914470273\n",
            "Epoch 7 - Training loss: 1.6516686202620647\n",
            "Epoch 8 - Training loss: 1.6424131005811793\n",
            "Epoch 9 - Training loss: 1.6362125756643982\n",
            "Epoch 10 - Training loss: 1.6252959615894471\n",
            "Epoch 11 - Training loss: 1.571118180304448\n",
            "Epoch 12 - Training loss: 1.560897045679438\n",
            "Epoch 13 - Training loss: 1.5548356724446262\n",
            "Epoch 14 - Training loss: 1.5502099936196545\n"
          ]
        }
      ],
      "source": [
        "red_neuronal = entrenar_red()"
      ]
    },
    {
      "attachments": {},
      "cell_type": "markdown",
      "metadata": {},
      "source": [
        "### Probar red"
      ]
    },
    {
      "attachments": {},
      "cell_type": "markdown",
      "metadata": {},
      "source": [
        "Aquí ultilizando los datos de prueba comprobamos la eficiencia de la red neuronal"
      ]
    },
    {
      "cell_type": "code",
      "execution_count": 8,
      "metadata": {
        "colab": {
          "base_uri": "https://localhost:8080/"
        },
        "id": "Vl1BWPDFRDk8",
        "outputId": "ba58d1b4-7edc-4c1b-8686-5df9c2bd6e18"
      },
      "outputs": [
        {
          "name": "stdout",
          "output_type": "stream",
          "text": [
            "Number Of Images Tested = 10000\n",
            "\n",
            "Model Accuracy = 0.9196\n"
          ]
        }
      ],
      "source": [
        "# Fase de prueba del modelo\n",
        "correct_count, all_count = 0, 0\n",
        "correct_img = list()\n",
        "incorrect_img = list()\n",
        "for images,labels in valloader:\n",
        "  for i in range(len(labels)):\n",
        "    img = images[i].view(1, 784)\n",
        "    with torch.no_grad():\n",
        "        ps = red_neuronal(img)\n",
        "    probab = list(ps.cpu().numpy()[0])\n",
        "    pred_label = probab.index(max(probab))\n",
        "    true_label = labels.numpy()[i]\n",
        "    if(true_label == pred_label):\n",
        "      correct_count += 1\n",
        "      if(correct_count <=10):\n",
        "        correct_img.append(images[i])\n",
        "    else:\n",
        "      incorrect_img.append(images[i])\n",
        "    all_count += 1\n",
        "\n",
        "print(\"Number Of Images Tested =\", all_count)\n",
        "print(\"\\nModel Accuracy =\", (correct_count/all_count))\n"
      ]
    },
    {
      "cell_type": "code",
      "execution_count": 11,
      "metadata": {
        "colab": {
          "base_uri": "https://localhost:8080/",
          "height": 428
        },
        "id": "JEbjvc-KTxZw",
        "outputId": "c50c86fe-376e-48ac-fd43-9604025a6e63"
      },
      "outputs": [
        {
          "data": {
            "text/plain": [
              "<matplotlib.image.AxesImage at 0x7f8714d6ea30>"
            ]
          },
          "execution_count": 11,
          "metadata": {},
          "output_type": "execute_result"
        },
        {
          "data": {
            "image/png": "[encoded data removed]",
            "text/plain": [
              "<Figure size 432x288 with 6 Axes>"
            ]
          },
          "metadata": {
            "needs_background": "light"
          },
          "output_type": "display_data"
        }
      ],
      "source": [
        "fig, axes = plt.subplots(2,3)\n",
        "# Imprime 3 datos que la red predijo correctamente\n",
        "axes[0,0].imshow(correct_img[0].view(28,28))\n",
        "axes[0,1].imshow(correct_img[1].view(28,28))\n",
        "axes[0,2].imshow(correct_img[2].view(28,28))\n",
        "# Imprime 3 datos donde la red falla\n",
        "axes[1,0].imshow(incorrect_img[0].view(28,28))\n",
        "axes[1,1].imshow(incorrect_img[8].view(28,28))\n",
        "axes[1,2].imshow(incorrect_img[5].view(28,28))"
      ]
    }
  ],
  "metadata": {
    "accelerator": "GPU",
    "colab": {
      "provenance": []
    },
    "gpuClass": "standard",
    "kernelspec": {
      "display_name": "Python 3",
      "name": "python3"
    },
    "language_info": {
      "codemirror_mode": {
        "name": "ipython",
        "version": 3
      },
      "file_extension": ".py",
      "mimetype": "text/x-python",
      "name": "python",
      "nbconvert_exporter": "python",
      "pygments_lexer": "ipython3",
      "version": "3.9.7"
    }
  },
  "nbformat": 4,
  "nbformat_minor": 0
}
