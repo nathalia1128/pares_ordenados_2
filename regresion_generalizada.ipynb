{
  "cells": [
    {
      "attachments": {},
      "cell_type": "markdown",
      "metadata": {},
      "source": [
        "# Una introducción a la regresión polinomial para cualquier grado"
      ]
    },
    {
      "attachments": {},
      "cell_type": "markdown",
      "metadata": {},
      "source": [
        "En este notebook implementamos algoritmos para hacer regresión polinomial de cualquier grado, comenzando con regresión cuadrática como un primer ejemplo, seguido de una implementación genérica."
      ]
    },
    {
      "attachments": {},
      "cell_type": "markdown",
      "metadata": {
        "id": "pCehXBGh-XDA"
      },
      "source": [
        "## Regresión cuadrática"
      ]
    },
    {
      "cell_type": "code",
      "execution_count": 1,
      "metadata": {
        "id": "NP79HJBG-Yie"
      },
      "outputs": [],
      "source": [
        "import numpy as np\n",
        "\n",
        "def coeficientes(x: np.ndarray, t: np.ndarray) -> np.ndarray:\n",
        "  \"\"\"\n",
        "  Devuelve [w0, w1, w2], los coeficientes de\n",
        "  una regresión cuadrática.\n",
        "  \"\"\"\n",
        "\n",
        "  A = np.array([\n",
        "      [len(x), np.sum(x), np.sum(x ** 2)],\n",
        "      [np.sum(x), np.sum(x ** 2), np.sum(x ** 3)],\n",
        "      [np.sum(x ** 2), np.sum(x ** 3), np.sum(x ** 4)],\n",
        "  ])\n",
        "  b = np.array([\n",
        "      [np.sum(t)],\n",
        "      [np.sum(t * x)],\n",
        "      [np.sum(t * (x ** 2))],\n",
        "  ])\n",
        "\n",
        "  return np.linalg.solve(A, b)"
      ]
    },
    {
      "attachments": {},
      "cell_type": "markdown",
      "metadata": {
        "id": "6hvbdv3xVYpW"
      },
      "source": [
        "## Regresión polinomial para cualquier grado"
      ]
    },
    {
      "cell_type": "code",
      "execution_count": 2,
      "metadata": {
        "id": "uPxu2LUAh1_Z"
      },
      "outputs": [],
      "source": [
        "def coeficientesM(x: np.ndarray, t: np.ndarray, m: int) -> np.ndarray:\n",
        "  \"\"\"\n",
        "  Devuelve los coeficientes de una regresión de grado m,\n",
        "  dados unos datos x = (x_1, ..., x_N), t = (t_1, ..., t_N).\n",
        "  \"\"\"\n",
        "  A = np.zeros((m,m))\n",
        "  b = np.zeros((m))\n",
        "  for i in range(m):\n",
        "    b[i]=np.sum(t*(x**i))\n",
        "    for j in range(m):\n",
        "      A[i][j]=np.sum(x**(i+j))\n",
        "  A[0][0]=len(x)\n",
        "  return np.linalg.solve(A, b)"
      ]
    },
    {
      "attachments": {},
      "cell_type": "markdown",
      "metadata": {},
      "source": [
        "## Un ejemplo usnado la función seno"
      ]
    },
    {
      "attachments": {},
      "cell_type": "markdown",
      "metadata": {},
      "source": [
        "La pregunta es: ¿cómo sabemos cuál grado es el mejor?, para hacerlo, revisamos cómo se comporta la función error en nuestros datos.\n",
        "\n",
        "Explicaremos este proceso con 100 datos sacados al azar uniformemente en el intervalo [0, 1], y evaluando en una versión ruidosa de la función $\\sin(2\\pi x)$."
      ]
    },
    {
      "cell_type": "code",
      "execution_count": 6,
      "metadata": {
        "id": "XuSjVixp_6xn"
      },
      "outputs": [],
      "source": [
        "n_datos = 100\n",
        "x = np.random.uniform(0, np.pi / 2, size=(n_datos,))\n",
        "epsilon = np.random.normal(0, 1, size=(n_datos,))\n",
        "t = np.sin(2*np.pi*(x) + 0.05 *epsilon)"
      ]
    },
    {
      "cell_type": "code",
      "execution_count": 7,
      "metadata": {
        "colab": {
          "base_uri": "https://localhost:8080/",
          "height": 282
        },
        "id": "1wsG3c6PAVdV",
        "outputId": "489a3758-2876-4ca1-bf3f-a8bede4d5597"
      },
      "outputs": [
        {
          "data": {
            "text/plain": [
              "[<matplotlib.lines.Line2D at 0x7f7e1943a160>]"
            ]
          },
          "execution_count": 7,
          "metadata": {},
          "output_type": "execute_result"
        },
        {
          "data": {
            "image/png": "[encoded data removed]",
            "text/plain": [
              "<Figure size 432x288 with 1 Axes>"
            ]
          },
          "metadata": {
            "needs_background": "light"
          },
          "output_type": "display_data"
        }
      ],
      "source": [
        "import matplotlib.pyplot as plt\n",
        "\n",
        "plt.plot(x, t, \"xr\")"
      ]
    },
    {
      "cell_type": "markdown",
      "metadata": {
        "id": "MzA-uwB_Vxwl"
      },
      "source": [
        "## Implementando una función error"
      ]
    },
    {
      "attachments": {},
      "cell_type": "markdown",
      "metadata": {},
      "source": [
        "Para la regresión, la función error suele ser la suma-de-cuadrados. Usémosla para comparar una regresión cuadrática con una regresión en más grados."
      ]
    },
    {
      "cell_type": "code",
      "execution_count": 47,
      "metadata": {
        "id": "fuSQU2bH5jf3"
      },
      "outputs": [],
      "source": [
        "def error(x:np.ndarray, t:np.ndarray, y: np.ndarray)-> float:\n",
        "  error_suma_de_cuadrados = (1/2) * np.sum((y-t)**2)\n",
        "  return error_suma_de_cuadrados / len(t)"
      ]
    },
    {
      "cell_type": "code",
      "execution_count": 34,
      "metadata": {},
      "outputs": [],
      "source": [
        "def evaluar_polinomio(x: np.ndarray, coeficientes_m: np.ndarray) -> np.ndarray:\n",
        "    \"\"\"\n",
        "    Evalua el polinomio en x, dados los coeficientes.\n",
        "    \"\"\"\n",
        "    resultado = 0\n",
        "    for i, coeficiente in enumerate(coeficientes_m):\n",
        "        resultado += coeficiente * (x ** i)\n",
        "\n",
        "    return resultado"
      ]
    },
    {
      "attachments": {},
      "cell_type": "markdown",
      "metadata": {},
      "source": [
        "## Visualizando para varios grados"
      ]
    },
    {
      "cell_type": "code",
      "execution_count": 36,
      "metadata": {
        "id": "8n_S_JxXBDlG"
      },
      "outputs": [],
      "source": [
        "dominio = np.linspace(0, np.pi / 2, 100)"
      ]
    },
    {
      "cell_type": "code",
      "execution_count": 55,
      "metadata": {},
      "outputs": [
        {
          "name": "stdout",
          "output_type": "stream",
          "text": [
            "Error en grado: 2: 0.18257420260724438\n",
            "Error en grado: 4: 0.013785788345739196\n",
            "Error en grado: 8: 0.0006536764475147617\n",
            "Error en grado: 16: 0.0006236332122719447\n",
            "Error en grado: 32: 0.0006191206291641203\n"
          ]
        },
        {
          "data": {
            "text/plain": [
              "<matplotlib.legend.Legend at 0x7f7dfcf4e550>"
            ]
          },
          "execution_count": 55,
          "metadata": {},
          "output_type": "execute_result"
        },
        {
          "data": {
            "image/png": "[encoded data removed]",
            "text/plain": [
              "<Figure size 432x288 with 1 Axes>"
            ]
          },
          "metadata": {
            "needs_background": "light"
          },
          "output_type": "display_data"
        }
      ],
      "source": [
        "plt.plot(x, t, \"+r\")\n",
        "\n",
        "for grado in [2, 4, 8, 16, 32]:\n",
        "    coeficientes_m = coeficientesM(x, t, grado+1)\n",
        "    regresion = evaluar_polinomio(dominio, coeficientes_m)\n",
        "    plt.plot(dominio, regresion, label=f\"Grado {grado}\")\n",
        "    print(f\"Error en grado: {grado}: {error(x , t, evaluar_polinomio(x, coeficientes_m))}\")\n",
        "\n",
        "plt.legend()"
      ]
    }
  ],
  "metadata": {
    "colab": {
      "provenance": []
    },
    "kernelspec": {
      "display_name": "Python 3",
      "name": "python3"
    },
    "language_info": {
      "codemirror_mode": {
        "name": "ipython",
        "version": 3
      },
      "file_extension": ".py",
      "mimetype": "text/x-python",
      "name": "python",
      "nbconvert_exporter": "python",
      "pygments_lexer": "ipython3",
      "version": "3.8.5"
    }
  },
  "nbformat": 4,
  "nbformat_minor": 0
}
